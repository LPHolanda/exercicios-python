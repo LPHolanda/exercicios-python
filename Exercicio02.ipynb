{
 "cells": [
  {
   "cell_type": "markdown",
   "metadata": {},
   "source": [
    "1- Crie um programa que recebe uma lista de números e\n",
    "- retorne o maior elemento\n",
    "- retorne a soma dos elementos\n",
    "- retorne o número de ocorrências do primeiro elemento da lista\n",
    "- retorne a média dos elementos\n",
    "- retorne o valor mais próximo da média dos elementos\n",
    "- retorne a soma dos elementos com valor negativo\n",
    "- retorne a quantidade de vizinhos iguais"
   ]
  },
  {
   "cell_type": "code",
   "execution_count": 27,
   "metadata": {
    "collapsed": false
   },
   "outputs": [
    {
     "name": "stdout",
     "output_type": "stream",
     "text": [
      "O maior elemento da lista é 50\n",
      "A soma dos elementos é 150\n",
      "O primeiro elemento se repete 1 vezes\n",
      "A média dos elementos é 30.0\n",
      "O elemento mais próximo da média é\n"
     ]
    },
    {
     "ename": "TypeError",
     "evalue": "'list' object is not callable",
     "output_type": "error",
     "traceback": [
      "\u001b[0;31m---------------------------------------------------------------------------\u001b[0m",
      "\u001b[0;31mTypeError\u001b[0m                                 Traceback (most recent call last)",
      "\u001b[0;32m<ipython-input-27-140d01e2c584>\u001b[0m in \u001b[0;36m<module>\u001b[0;34m()\u001b[0m\n\u001b[1;32m     24\u001b[0m \u001b[0melementos\u001b[0m \u001b[1;33m=\u001b[0m \u001b[0mlen\u001b[0m\u001b[1;33m(\u001b[0m\u001b[0mlista\u001b[0m\u001b[1;33m)\u001b[0m\u001b[1;33m\u001b[0m\u001b[0m\n\u001b[1;32m     25\u001b[0m \u001b[1;32mwhile\u001b[0m\u001b[1;33m(\u001b[0m\u001b[0mi\u001b[0m \u001b[1;33m<\u001b[0m \u001b[0melementos\u001b[0m\u001b[1;33m)\u001b[0m\u001b[1;33m:\u001b[0m\u001b[1;33m\u001b[0m\u001b[0m\n\u001b[0;32m---> 26\u001b[0;31m     \u001b[1;32mif\u001b[0m\u001b[1;33m(\u001b[0m\u001b[0mlista\u001b[0m\u001b[1;33m(\u001b[0m\u001b[0mi\u001b[0m\u001b[1;33m+\u001b[0m\u001b[1;36m1\u001b[0m\u001b[1;33m)\u001b[0m \u001b[1;33m==\u001b[0m \u001b[0mlista\u001b[0m\u001b[1;33m(\u001b[0m\u001b[0mi\u001b[0m\u001b[1;33m)\u001b[0m\u001b[1;33m)\u001b[0m\u001b[1;33m:\u001b[0m\u001b[1;33m\u001b[0m\u001b[0m\n\u001b[0m\u001b[1;32m     27\u001b[0m         \u001b[0mcount\u001b[0m\u001b[1;33m+=\u001b[0m\u001b[1;36m1\u001b[0m\u001b[1;33m\u001b[0m\u001b[0m\n\u001b[1;32m     28\u001b[0m     \u001b[0mi\u001b[0m\u001b[1;33m+=\u001b[0m\u001b[1;36m1\u001b[0m\u001b[1;33m\u001b[0m\u001b[0m\n",
      "\u001b[0;31mTypeError\u001b[0m: 'list' object is not callable"
     ]
    }
   ],
   "source": [
    "lista = [10, 20, 30, 40, 50]\n",
    "\n",
    "#maior elemento\n",
    "print(\"O maior elemento da lista é\", max(int(number) for number in lista))  \n",
    "\n",
    "#soma dos elementos\n",
    "print(\"A soma dos elementos é\", sum(lista))\n",
    "\n",
    "#número de ocorrências do primeiro elemento da lista\n",
    "print(\"O primeiro elemento se repete\", lista.count(10), \"vezes\")\n",
    "\n",
    "#média dos elementos\n",
    "print(\"A média dos elementos é\", sum(lista) / (len(lista)))\n",
    "\n",
    "#valor mais próximo da média dos elementos\n",
    "print(\"O elemento mais próximo da média é\", )\n",
    "\n",
    "#soma dos elementos com valor negativo\n",
    "print(\"A soma dos elementos com valor negativo é\", sum(lista)*-1)\n",
    "\n",
    "#quantidade de vizinhos iguais\n",
    "i = 0\n",
    "count = 0\n",
    "elementos = len(lista)\n",
    "while(i < elementos):\n",
    "    if(lista(i+1) == lista(i)):\n",
    "        count+=1\n",
    "    i+=1\n",
    "print(\"este número tem\", count ,\"vizinhos iguais\")"
   ]
  },
  {
   "cell_type": "code",
   "execution_count": null,
   "metadata": {
    "collapsed": true
   },
   "outputs": [],
   "source": []
  }
 ],
 "metadata": {
  "kernelspec": {
   "display_name": "Python 3",
   "language": "python",
   "name": "python3"
  },
  "language_info": {
   "codemirror_mode": {
    "name": "ipython",
    "version": 3
   },
   "file_extension": ".py",
   "mimetype": "text/x-python",
   "name": "python",
   "nbconvert_exporter": "python",
   "pygments_lexer": "ipython3",
   "version": "3.6.0"
  }
 },
 "nbformat": 4,
 "nbformat_minor": 2
}
